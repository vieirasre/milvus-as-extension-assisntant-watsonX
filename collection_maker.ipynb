{
 "cells": [
  {
   "cell_type": "markdown",
   "id": "3c5ad87b-5807-4b33-b035-2e77825e8efe",
   "metadata": {},
   "source": [
    "Criar uma coleção:"
   ]
  },
  {
   "cell_type": "code",
   "execution_count": 7,
   "id": "c7b54849-22a8-4b6e-b860-529401591783",
   "metadata": {},
   "outputs": [
    {
     "name": "stdout",
     "output_type": "stream",
     "text": [
      "Collecting langchain_huggingface\n",
      "  Downloading langchain_huggingface-0.0.3-py3-none-any.whl (17 kB)\n",
      "Collecting tokenizers>=0.19.1\n",
      "  Downloading tokenizers-0.19.1-cp39-cp39-manylinux_2_17_x86_64.manylinux2014_x86_64.whl (3.6 MB)\n",
      "\u001b[K     |████████████████████████████████| 3.6 MB 4.9 MB/s eta 0:00:01\n",
      "\u001b[?25hCollecting transformers>=4.39.0\n",
      "  Downloading transformers-4.43.2-py3-none-any.whl (9.4 MB)\n",
      "\u001b[K     |████████████████████████████████| 9.4 MB 60.6 MB/s eta 0:00:01\n",
      "\u001b[?25hCollecting sentence-transformers>=2.6.0\n",
      "  Downloading sentence_transformers-3.0.1-py3-none-any.whl (227 kB)\n",
      "\u001b[K     |████████████████████████████████| 227 kB 31.8 MB/s eta 0:00:01\n",
      "\u001b[?25hCollecting huggingface-hub>=0.23.0\n",
      "  Downloading huggingface_hub-0.24.2-py3-none-any.whl (417 kB)\n",
      "\u001b[K     |████████████████████████████████| 417 kB 45.6 MB/s eta 0:00:01\n",
      "\u001b[?25hRequirement already satisfied: langchain-core<0.3,>=0.1.52 in /usr/local/lib/python3.9/site-packages (from langchain_huggingface) (0.2.23)\n",
      "Requirement already satisfied: pyyaml>=5.1 in /usr/lib64/python3.9/site-packages (from huggingface-hub>=0.23.0->langchain_huggingface) (5.4.1)\n",
      "Requirement already satisfied: tqdm>=4.42.1 in /usr/local/lib/python3.9/site-packages (from huggingface-hub>=0.23.0->langchain_huggingface) (4.66.2)\n",
      "Requirement already satisfied: packaging>=20.9 in /usr/local/lib/python3.9/site-packages (from huggingface-hub>=0.23.0->langchain_huggingface) (23.2)\n",
      "Requirement already satisfied: typing-extensions>=3.7.4.3 in /usr/local/lib/python3.9/site-packages (from huggingface-hub>=0.23.0->langchain_huggingface) (4.8.0)\n",
      "Requirement already satisfied: requests in /usr/local/lib/python3.9/site-packages (from huggingface-hub>=0.23.0->langchain_huggingface) (2.31.0)\n",
      "Requirement already satisfied: fsspec>=2023.5.0 in /usr/local/lib/python3.9/site-packages (from huggingface-hub>=0.23.0->langchain_huggingface) (2024.2.0)\n",
      "Requirement already satisfied: filelock in /usr/local/lib/python3.9/site-packages (from huggingface-hub>=0.23.0->langchain_huggingface) (3.13.1)\n",
      "Requirement already satisfied: tenacity!=8.4.0,<9.0.0,>=8.1.0 in /usr/local/lib/python3.9/site-packages (from langchain-core<0.3,>=0.1.52->langchain_huggingface) (8.5.0)\n",
      "Requirement already satisfied: pydantic<3,>=1 in /usr/local/lib/python3.9/site-packages (from langchain-core<0.3,>=0.1.52->langchain_huggingface) (2.8.2)\n",
      "Requirement already satisfied: jsonpatch<2.0,>=1.33 in /usr/local/lib/python3.9/site-packages (from langchain-core<0.3,>=0.1.52->langchain_huggingface) (1.33)\n",
      "Requirement already satisfied: langsmith<0.2.0,>=0.1.75 in /usr/local/lib/python3.9/site-packages (from langchain-core<0.3,>=0.1.52->langchain_huggingface) (0.1.93)\n",
      "Requirement already satisfied: jsonpointer>=1.9 in /usr/local/lib/python3.9/site-packages (from jsonpatch<2.0,>=1.33->langchain-core<0.3,>=0.1.52->langchain_huggingface) (2.4)\n",
      "Requirement already satisfied: orjson<4.0.0,>=3.9.14 in /usr/local/lib64/python3.9/site-packages (from langsmith<0.2.0,>=0.1.75->langchain-core<0.3,>=0.1.52->langchain_huggingface) (3.10.6)\n",
      "Requirement already satisfied: annotated-types>=0.4.0 in /usr/local/lib/python3.9/site-packages (from pydantic<3,>=1->langchain-core<0.3,>=0.1.52->langchain_huggingface) (0.7.0)\n",
      "Requirement already satisfied: pydantic-core==2.20.1 in /usr/local/lib64/python3.9/site-packages (from pydantic<3,>=1->langchain-core<0.3,>=0.1.52->langchain_huggingface) (2.20.1)\n",
      "Requirement already satisfied: urllib3<3,>=1.21.1 in /usr/lib/python3.9/site-packages (from requests->huggingface-hub>=0.23.0->langchain_huggingface) (1.26.5)\n",
      "Requirement already satisfied: certifi>=2017.4.17 in /usr/local/lib/python3.9/site-packages (from requests->huggingface-hub>=0.23.0->langchain_huggingface) (2023.7.22)\n",
      "Requirement already satisfied: idna<4,>=2.5 in /usr/lib/python3.9/site-packages (from requests->huggingface-hub>=0.23.0->langchain_huggingface) (2.10)\n",
      "Requirement already satisfied: charset-normalizer<4,>=2 in /usr/local/lib64/python3.9/site-packages (from requests->huggingface-hub>=0.23.0->langchain_huggingface) (3.3.0)\n",
      "Requirement already satisfied: numpy in /usr/local/lib64/python3.9/site-packages (from sentence-transformers>=2.6.0->langchain_huggingface) (1.26.1)\n",
      "Requirement already satisfied: Pillow in /usr/local/lib64/python3.9/site-packages (from sentence-transformers>=2.6.0->langchain_huggingface) (10.1.0)\n",
      "Requirement already satisfied: scikit-learn in /usr/local/lib64/python3.9/site-packages (from sentence-transformers>=2.6.0->langchain_huggingface) (1.4.1.post1)\n",
      "Requirement already satisfied: torch>=1.11.0 in /usr/local/lib64/python3.9/site-packages (from sentence-transformers>=2.6.0->langchain_huggingface) (2.2.1)\n",
      "Requirement already satisfied: scipy in /usr/local/lib64/python3.9/site-packages (from sentence-transformers>=2.6.0->langchain_huggingface) (1.12.0)\n",
      "Requirement already satisfied: nvidia-nvtx-cu12==12.1.105 in /usr/local/lib/python3.9/site-packages (from torch>=1.11.0->sentence-transformers>=2.6.0->langchain_huggingface) (12.1.105)\n",
      "Requirement already satisfied: triton==2.2.0 in /usr/local/lib64/python3.9/site-packages (from torch>=1.11.0->sentence-transformers>=2.6.0->langchain_huggingface) (2.2.0)\n",
      "Requirement already satisfied: nvidia-nccl-cu12==2.19.3 in /usr/local/lib/python3.9/site-packages (from torch>=1.11.0->sentence-transformers>=2.6.0->langchain_huggingface) (2.19.3)\n",
      "Requirement already satisfied: nvidia-cuda-runtime-cu12==12.1.105 in /usr/local/lib/python3.9/site-packages (from torch>=1.11.0->sentence-transformers>=2.6.0->langchain_huggingface) (12.1.105)\n",
      "Requirement already satisfied: nvidia-cuda-nvrtc-cu12==12.1.105 in /usr/local/lib/python3.9/site-packages (from torch>=1.11.0->sentence-transformers>=2.6.0->langchain_huggingface) (12.1.105)\n",
      "Requirement already satisfied: networkx in /usr/local/lib/python3.9/site-packages (from torch>=1.11.0->sentence-transformers>=2.6.0->langchain_huggingface) (3.2.1)\n",
      "Requirement already satisfied: nvidia-cufft-cu12==11.0.2.54 in /usr/local/lib/python3.9/site-packages (from torch>=1.11.0->sentence-transformers>=2.6.0->langchain_huggingface) (11.0.2.54)\n",
      "Requirement already satisfied: nvidia-curand-cu12==10.3.2.106 in /usr/local/lib/python3.9/site-packages (from torch>=1.11.0->sentence-transformers>=2.6.0->langchain_huggingface) (10.3.2.106)\n",
      "Requirement already satisfied: nvidia-cusparse-cu12==12.1.0.106 in /usr/local/lib/python3.9/site-packages (from torch>=1.11.0->sentence-transformers>=2.6.0->langchain_huggingface) (12.1.0.106)\n",
      "Requirement already satisfied: jinja2 in /usr/local/lib/python3.9/site-packages (from torch>=1.11.0->sentence-transformers>=2.6.0->langchain_huggingface) (3.1.2)\n",
      "Requirement already satisfied: nvidia-cublas-cu12==12.1.3.1 in /usr/local/lib/python3.9/site-packages (from torch>=1.11.0->sentence-transformers>=2.6.0->langchain_huggingface) (12.1.3.1)\n",
      "Requirement already satisfied: nvidia-cusolver-cu12==11.4.5.107 in /usr/local/lib/python3.9/site-packages (from torch>=1.11.0->sentence-transformers>=2.6.0->langchain_huggingface) (11.4.5.107)\n",
      "Requirement already satisfied: nvidia-cudnn-cu12==8.9.2.26 in /usr/local/lib/python3.9/site-packages (from torch>=1.11.0->sentence-transformers>=2.6.0->langchain_huggingface) (8.9.2.26)\n",
      "Requirement already satisfied: nvidia-cuda-cupti-cu12==12.1.105 in /usr/local/lib/python3.9/site-packages (from torch>=1.11.0->sentence-transformers>=2.6.0->langchain_huggingface) (12.1.105)\n",
      "Requirement already satisfied: sympy in /usr/local/lib/python3.9/site-packages (from torch>=1.11.0->sentence-transformers>=2.6.0->langchain_huggingface) (1.12)\n",
      "Requirement already satisfied: nvidia-nvjitlink-cu12 in /usr/local/lib/python3.9/site-packages (from nvidia-cusolver-cu12==11.4.5.107->torch>=1.11.0->sentence-transformers>=2.6.0->langchain_huggingface) (12.4.99)\n",
      "Requirement already satisfied: regex!=2019.12.17 in /usr/local/lib64/python3.9/site-packages (from transformers>=4.39.0->langchain_huggingface) (2023.12.25)\n",
      "Requirement already satisfied: safetensors>=0.4.1 in /usr/local/lib64/python3.9/site-packages (from transformers>=4.39.0->langchain_huggingface) (0.4.2)\n",
      "Requirement already satisfied: MarkupSafe>=2.0 in /usr/local/lib64/python3.9/site-packages (from jinja2->torch>=1.11.0->sentence-transformers>=2.6.0->langchain_huggingface) (2.1.3)\n",
      "Requirement already satisfied: joblib>=1.2.0 in /usr/local/lib/python3.9/site-packages (from scikit-learn->sentence-transformers>=2.6.0->langchain_huggingface) (1.3.2)\n",
      "Requirement already satisfied: threadpoolctl>=2.0.0 in /usr/local/lib/python3.9/site-packages (from scikit-learn->sentence-transformers>=2.6.0->langchain_huggingface) (3.3.0)\n",
      "Requirement already satisfied: mpmath>=0.19 in /usr/local/lib/python3.9/site-packages (from sympy->torch>=1.11.0->sentence-transformers>=2.6.0->langchain_huggingface) (1.3.0)\n",
      "Installing collected packages: huggingface-hub, tokenizers, transformers, sentence-transformers, langchain-huggingface\n",
      "  Attempting uninstall: huggingface-hub\n",
      "    Found existing installation: huggingface-hub 0.21.4\n",
      "    Uninstalling huggingface-hub-0.21.4:\n",
      "      Successfully uninstalled huggingface-hub-0.21.4\n",
      "  Attempting uninstall: tokenizers\n",
      "    Found existing installation: tokenizers 0.15.2\n",
      "    Uninstalling tokenizers-0.15.2:\n",
      "      Successfully uninstalled tokenizers-0.15.2\n",
      "  Attempting uninstall: transformers\n",
      "    Found existing installation: transformers 4.38.2\n",
      "    Uninstalling transformers-4.38.2:\n",
      "      Successfully uninstalled transformers-4.38.2\n",
      "  Attempting uninstall: sentence-transformers\n",
      "    Found existing installation: sentence-transformers 2.5.1\n",
      "    Uninstalling sentence-transformers-2.5.1:\n",
      "      Successfully uninstalled sentence-transformers-2.5.1\n",
      "Successfully installed huggingface-hub-0.24.2 langchain-huggingface-0.0.3 sentence-transformers-3.0.1 tokenizers-0.19.1 transformers-4.43.2\n",
      "\u001b[33mWARNING: Running pip as the 'root' user can result in broken permissions and conflicting behaviour with the system package manager. It is recommended to use a virtual environment instead: https://pip.pypa.io/warnings/venv\u001b[0m\n"
     ]
    }
   ],
   "source": [
    "!pip install python-dotenv\n",
    "!pip install langchain_huggingface\n",
    "!pip install --upgrade pymilvus\n",
    "!pip install PyPDF2\n",
    "!pip install sentence_transformers\n",
    "!pip install grpcio==1.60.0 "
   ]
  },
  {
   "cell_type": "code",
   "execution_count": 14,
   "id": "dbc948f6-a414-4c72-99bd-7ebd79bc50d9",
   "metadata": {},
   "outputs": [],
   "source": [
    "import os\n",
    "import logging\n",
    "from pymilvus import connections, FieldSchema, CollectionSchema, DataType, Collection, utility\n",
    "\n",
    "from langchain_huggingface import HuggingFaceEndpointEmbeddings\n",
    "#from langchain_milvus import Milvus\n",
    "\n",
    "import PyPDF2"
   ]
  },
  {
   "cell_type": "markdown",
   "id": "67d88513-dc77-4f73-8e5c-aac9eef45e20",
   "metadata": {},
   "source": [
    "### conexão ao milvus, criação de coleção e indexação de dados"
   ]
  },
  {
   "cell_type": "code",
   "execution_count": 15,
   "id": "d70fe6e4-6c1b-4416-92b7-ccfe2375aeaa",
   "metadata": {},
   "outputs": [],
   "source": [
    "#conexão com milvus\n",
    "host            = 'watsonxdata'\n",
    "port            = 19530\n",
    "user            = 'ibmlhadmin'\n",
    "password        = 'password'\n",
    "server_pem_path = '/tmp/presto.crt'\n"
   ]
  },
  {
   "cell_type": "code",
   "execution_count": 16,
   "id": "6108db8b-20d3-4dca-98e5-c0f3bf5dce6e",
   "metadata": {},
   "outputs": [],
   "source": [
    "from pymilvus import(\n",
    "    Milvus,\n",
    "    IndexType,\n",
    "    Status,\n",
    "    connections,\n",
    "    FieldSchema,\n",
    "    DataType,\n",
    "    Collection,\n",
    "    CollectionSchema,\n",
    ")\n",
    "\n",
    "connections.connect(alias='default',\n",
    "                   host=host,\n",
    "                   port=port,\n",
    "                   user=user,\n",
    "                   password=password,\n",
    "                   server_pem_path=server_pem_path,\n",
    "                   server_name='watsonxdata',\n",
    "                   secure=True)"
   ]
  },
  {
   "cell_type": "code",
   "execution_count": 18,
   "id": "4484bb9f-6734-4355-9689-3ce2bc891289",
   "metadata": {},
   "outputs": [],
   "source": [
    "logger = logging.getLogger(__name__)\n",
    "formatter = logging.Formatter('%(asctime)s - %(name)s - %(levelname)s - %(message)s')\n",
    "handler = logging.StreamHandler()\n",
    "handler.setLevel(logging.INFO)\n",
    "handler.setFormatter(formatter)\n",
    "logger.addHandler(handler)\n",
    "logger.info(\"Logger initialized\")"
   ]
  },
  {
   "cell_type": "code",
   "execution_count": 19,
   "id": "dd09397b-31e7-4fff-a5ce-520abcbef731",
   "metadata": {},
   "outputs": [],
   "source": [
    "#coleção compatível com LangChain\n",
    "def create_milvus_collection(collection_name):\n",
    "    if utility.has_collection(collection_name):\n",
    "        utility.drop_collection(collection_name)\n",
    "        logger.info(f\"Dropped existing collection: {collection_name}\")\n",
    "\n",
    "    fields = [\n",
    "        FieldSchema(name='pk', dtype=DataType.INT64, is_primary=True, auto_id=True),\n",
    "        FieldSchema(name='text', dtype=DataType.VARCHAR, max_length=65_535),\n",
    "        FieldSchema(name='vector', dtype=DataType.FLOAT_VECTOR, dim=384)\n",
    "    ]\n",
    "    \n",
    "    schema = CollectionSchema(fields=fields, description=\"Coleção geral que atende as exigências do LangChain\")\n",
    "    collection = Collection(name=collection_name, schema=schema)\n",
    "    \n",
    "    index_params = {\n",
    "        \"metric_type\": \"L2\",\n",
    "        \"index_type\": \"IVF_FLAT\",\n",
    "        \"params\": {\"nlist\": 2048}\n",
    "    }\n",
    "    collection.create_index(field_name=\"vector\", index_params=index_params)\n",
    "    logger.info(f\"Created collection: {collection_name}\")\n",
    "    return collection"
   ]
  },
  {
   "cell_type": "code",
   "execution_count": 20,
   "id": "32fd79f4-f81f-43e2-bd30-ccea9a05ca6c",
   "metadata": {},
   "outputs": [
    {
     "data": {
      "text/plain": [
       "<Collection>:\n",
       "-------------\n",
       "<name>: Teste_ML\n",
       "<description>: General collection for id, text and vector\n",
       "<schema>: {'auto_id': True, 'description': 'General collection for id, text and vector', 'fields': [{'name': 'pk', 'description': '', 'type': <DataType.INT64: 5>, 'is_primary': True, 'auto_id': True}, {'name': 'text', 'description': '', 'type': <DataType.VARCHAR: 21>, 'params': {'max_length': 65535}}, {'name': 'vector', 'description': '', 'type': <DataType.FLOAT_VECTOR: 101>, 'params': {'dim': 384}}]}"
      ]
     },
     "execution_count": 20,
     "metadata": {},
     "output_type": "execute_result"
    }
   ],
   "source": [
    "create_milvus_collection(\"Teste_ML\")"
   ]
  },
  {
   "cell_type": "code",
   "execution_count": null,
   "id": "70450e4e-accc-4e96-a67b-9cab809aa5fa",
   "metadata": {},
   "outputs": [],
   "source": []
  }
 ],
 "metadata": {
  "kernelspec": {
   "display_name": "Python 3 (ipykernel)",
   "language": "python",
   "name": "python3"
  },
  "language_info": {
   "codemirror_mode": {
    "name": "ipython",
    "version": 3
   },
   "file_extension": ".py",
   "mimetype": "text/x-python",
   "name": "python",
   "nbconvert_exporter": "python",
   "pygments_lexer": "ipython3",
   "version": "3.9.18"
  }
 },
 "nbformat": 4,
 "nbformat_minor": 5
}
